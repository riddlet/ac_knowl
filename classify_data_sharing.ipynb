{
 "cells": [
  {
   "cell_type": "code",
   "execution_count": 255,
   "metadata": {},
   "outputs": [],
   "source": [
    "import pandas as pd\n",
    "from sklearn.feature_extraction.text import CountVectorizer\n",
    "from sklearn.model_selection import StratifiedKFold, train_test_split\n",
    "from sklearn.naive_bayes import MultinomialNB\n",
    "from sklearn.ensemble import AdaBoostClassifier\n",
    "from sklearn.preprocessing import OneHotEncoder\n",
    "import numpy as np\n",
    "from sklearn.metrics import balanced_accuracy_score, classification_report, confusion_matrix, roc_curve, auc\n",
    "import glob\n",
    "from scipy.sparse import hstack\n",
    "from sklearn.feature_extraction import stop_words\n",
    "\n",
    "import matplotlib.pyplot as plt"
   ]
  },
  {
   "cell_type": "markdown",
   "metadata": {},
   "source": [
    "# Classify data sharing\n",
    "\n",
    "Eventually this will probably expand to encompass classifying bits of text in a variety of ways. At the moment, I've labeled some and am going to explore whether it's even feasible to build a classifier with the small amount of data I have (especially since there are so few positive cases). It seems likely that I'm going to be expanding the labeled data at some point."
   ]
  },
  {
   "cell_type": "code",
   "execution_count": 304,
   "metadata": {},
   "outputs": [
    {
     "name": "stderr",
     "output_type": "stream",
     "text": [
      "/home/riddleta/ac_knowl/ac_knowl/lib/python3.7/site-packages/ipykernel_launcher.py:2: FutureWarning: Sorting because non-concatenation axis is not aligned. A future version\n",
      "of pandas will change to not sort by default.\n",
      "\n",
      "To accept the future behavior, pass 'sort=False'.\n",
      "\n",
      "To retain the current behavior and silence the warning, pass 'sort=True'.\n",
      "\n",
      "  \n",
      "/home/riddleta/ac_knowl/ac_knowl/lib/python3.7/site-packages/ipykernel_launcher.py:7: FutureWarning: Sorting because non-concatenation axis is not aligned. A future version\n",
      "of pandas will change to not sort by default.\n",
      "\n",
      "To accept the future behavior, pass 'sort=False'.\n",
      "\n",
      "To retain the current behavior and silence the warning, pass 'sort=True'.\n",
      "\n",
      "  import sys\n",
      "/home/riddleta/ac_knowl/ac_knowl/lib/python3.7/site-packages/IPython/core/interactiveshell.py:3049: DtypeWarning: Columns (4,5,10) have mixed types. Specify dtype option on import or set low_memory=False.\n",
      "  interactivity=interactivity, compiler=compiler, result=result)\n"
     ]
    }
   ],
   "source": [
    "labeled_files = glob.glob('output/labeled_data/*.csv')\n",
    "df_labeled = pd.concat((pd.read_csv(f) for f in labeled_files))\n",
    "\n",
    "ds_files = glob.glob('output/labeled_data/active_learning_labels/data_sharing*.csv')\n",
    "od_files = glob.glob('output/labeled_data/active_learning_labels/open_data*.csv')\n",
    "df_data_sharing_al = pd.concat((pd.read_csv(f) for f in ds_files))\n",
    "df_open_data_al = pd.concat((pd.read_csv(f) for f in od_files))\n",
    "\n",
    "df_pmcids = pd.read_csv('data/PMC-ids.csv')"
   ]
  },
  {
   "cell_type": "code",
   "execution_count": 309,
   "metadata": {
    "scrolled": true
   },
   "outputs": [
    {
     "name": "stderr",
     "output_type": "stream",
     "text": [
      "/home/riddleta/ac_knowl/ac_knowl/lib/python3.7/site-packages/ipykernel_launcher.py:1: FutureWarning: Sorting because non-concatenation axis is not aligned. A future version\n",
      "of pandas will change to not sort by default.\n",
      "\n",
      "To accept the future behavior, pass 'sort=False'.\n",
      "\n",
      "To retain the current behavior and silence the warning, pass 'sort=True'.\n",
      "\n",
      "  \"\"\"Entry point for launching an IPython kernel.\n"
     ]
    },
    {
     "data": {
      "text/plain": [
       "Index(['index', 'data_sharing', 'doi', 'open_data', 'paper_offset', 'pmcid',\n",
       "       'repo', 'section', 'text', 'offset', 'Journal Title', 'ISSN', 'eISSN',\n",
       "       'Year', 'Volume', 'Issue', 'Page', 'DOI', 'PMCID', 'PMID',\n",
       "       'Manuscript Id', 'Release Date', 'pmcid-offset'],\n",
       "      dtype='object')"
      ]
     },
     "execution_count": 309,
     "metadata": {},
     "output_type": "execute_result"
    }
   ],
   "source": [
    "df = pd.concat([df_labeled, df_data_sharing_al, df_open_data_al])\n",
    "df.text.fillna('', inplace=True)\n",
    "df.reset_index(inplace=True)\n",
    "\n",
    "df['pmcid'] = df.pmcid.astype('str')\n",
    "df['offset'] = df.paper_offset.astype('str')\n",
    "df_pmcids['pmcid'] = df_pmcids.PMCID.apply(lambda x: str(x)[3:])\n",
    "df = df.merge(df_pmcids, how='left', on='pmcid')\n",
    "df['pmcid-offset'] = df.apply(lambda x: x['pmcid']+'-'+x['offset'], axis=1)\n",
    "\n",
    "df.columns"
   ]
  },
  {
   "cell_type": "code",
   "execution_count": 310,
   "metadata": {},
   "outputs": [
    {
     "name": "stderr",
     "output_type": "stream",
     "text": [
      "/home/riddleta/ac_knowl/ac_knowl/lib/python3.7/site-packages/ipykernel_launcher.py:2: SettingWithCopyWarning: \n",
      "A value is trying to be set on a copy of a slice from a DataFrame.\n",
      "Try using .loc[row_indexer,col_indexer] = value instead\n",
      "\n",
      "See the caveats in the documentation: http://pandas.pydata.org/pandas-docs/stable/user_guide/indexing.html#returning-a-view-versus-a-copy\n",
      "  \n"
     ]
    },
    {
     "data": {
      "text/plain": [
       "0    1167\n",
       "1     184\n",
       "Name: open_data, dtype: int64"
      ]
     },
     "execution_count": 310,
     "metadata": {},
     "output_type": "execute_result"
    }
   ],
   "source": [
    "df_open_data = df[~pd.isnull(df.open_data)]\n",
    "df_open_data['open_data'] = df_open_data.open_data.astype('int')\n",
    "df_open_data.reset_index(inplace=True)\n",
    "df_open_data.open_data.value_counts()"
   ]
  },
  {
   "cell_type": "code",
   "execution_count": 311,
   "metadata": {},
   "outputs": [
    {
     "name": "stderr",
     "output_type": "stream",
     "text": [
      "/home/riddleta/ac_knowl/ac_knowl/lib/python3.7/site-packages/ipykernel_launcher.py:2: SettingWithCopyWarning: \n",
      "A value is trying to be set on a copy of a slice from a DataFrame.\n",
      "Try using .loc[row_indexer,col_indexer] = value instead\n",
      "\n",
      "See the caveats in the documentation: http://pandas.pydata.org/pandas-docs/stable/user_guide/indexing.html#returning-a-view-versus-a-copy\n",
      "  \n"
     ]
    },
    {
     "data": {
      "text/plain": [
       "0    1285\n",
       "1      66\n",
       "Name: data_sharing, dtype: int64"
      ]
     },
     "execution_count": 311,
     "metadata": {},
     "output_type": "execute_result"
    }
   ],
   "source": [
    "df_data_sharing = df[~pd.isnull(df.data_sharing)]\n",
    "df_data_sharing['data_sharing'] = df_data_sharing.data_sharing.astype('int')\n",
    "df_data_sharing.reset_index(inplace=True)\n",
    "df_data_sharing.data_sharing.value_counts()"
   ]
  },
  {
   "cell_type": "code",
   "execution_count": 312,
   "metadata": {},
   "outputs": [],
   "source": [
    "kfold = StratifiedKFold(n_splits=3, shuffle=True)\n",
    "cv = CountVectorizer(stop_words=stop_words.ENGLISH_STOP_WORDS)\n",
    "enc = OneHotEncoder(handle_unknown='ignore')"
   ]
  },
  {
   "cell_type": "code",
   "execution_count": 313,
   "metadata": {},
   "outputs": [
    {
     "name": "stdout",
     "output_type": "stream",
     "text": [
      "***** fold 0 *****\n",
      "[[424   5]\n",
      " [ 14   8]]\n",
      "              precision    recall  f1-score   support\n",
      "\n",
      "           0       0.97      0.99      0.98       429\n",
      "           1       0.62      0.36      0.46        22\n",
      "\n",
      "    accuracy                           0.96       451\n",
      "   macro avg       0.79      0.68      0.72       451\n",
      "weighted avg       0.95      0.96      0.95       451\n",
      "\n",
      "***** fold 1 *****\n",
      "[[423   5]\n",
      " [ 10  12]]\n",
      "              precision    recall  f1-score   support\n",
      "\n",
      "           0       0.98      0.99      0.98       428\n",
      "           1       0.71      0.55      0.62        22\n",
      "\n",
      "    accuracy                           0.97       450\n",
      "   macro avg       0.84      0.77      0.80       450\n",
      "weighted avg       0.96      0.97      0.96       450\n",
      "\n",
      "***** fold 2 *****\n",
      "[[421   7]\n",
      " [ 12  10]]\n",
      "              precision    recall  f1-score   support\n",
      "\n",
      "           0       0.97      0.98      0.98       428\n",
      "           1       0.59      0.45      0.51        22\n",
      "\n",
      "    accuracy                           0.96       450\n",
      "   macro avg       0.78      0.72      0.75       450\n",
      "weighted avg       0.95      0.96      0.96       450\n",
      "\n"
     ]
    }
   ],
   "source": [
    "fold = 0\n",
    "\n",
    "for train_index, test_index in kfold.split(df_data_sharing.text, df_data_sharing.data_sharing):\n",
    "    x_train = cv.fit_transform(df_data_sharing.text[train_index])\n",
    "    one_hots_train = enc.fit_transform(df_data_sharing[['section', 'Journal Title', 'Year']].iloc[train_index])\n",
    "    y_train = df_data_sharing.data_sharing[train_index]\n",
    "    x_test = cv.transform(df_data_sharing.text[test_index])\n",
    "    one_hots_test = enc.transform(df_data_sharing[['section', 'Journal Title', 'Year']].iloc[test_index])\n",
    "    y_test = df_data_sharing.data_sharing[test_index]\n",
    "    \n",
    "    x_train = hstack([x_train, one_hots_train])\n",
    "    x_test = hstack([x_test, one_hots_test])\n",
    "    \n",
    "    clf = AdaBoostClassifier()\n",
    "    y_score = clf.fit(x_train, y_train).decision_function(x_test)\n",
    "    y_pred = clf.predict(x_test)\n",
    "    print('***** fold {} *****'.format(fold))\n",
    "    print(confusion_matrix(y_test, y_pred))\n",
    "    print(classification_report(y_test, y_pred))\n",
    "    fold = fold + 1"
   ]
  },
  {
   "cell_type": "code",
   "execution_count": 316,
   "metadata": {},
   "outputs": [
    {
     "name": "stdout",
     "output_type": "stream",
     "text": [
      "***** fold 0 *****\n",
      "[[384   5]\n",
      " [ 24  38]]\n",
      "              precision    recall  f1-score   support\n",
      "\n",
      "           0       0.94      0.99      0.96       389\n",
      "           1       0.88      0.61      0.72        62\n",
      "\n",
      "    accuracy                           0.94       451\n",
      "   macro avg       0.91      0.80      0.84       451\n",
      "weighted avg       0.93      0.94      0.93       451\n",
      "\n",
      "***** fold 1 *****\n",
      "[[375  14]\n",
      " [ 24  37]]\n",
      "              precision    recall  f1-score   support\n",
      "\n",
      "           0       0.94      0.96      0.95       389\n",
      "           1       0.73      0.61      0.66        61\n",
      "\n",
      "    accuracy                           0.92       450\n",
      "   macro avg       0.83      0.79      0.81       450\n",
      "weighted avg       0.91      0.92      0.91       450\n",
      "\n",
      "***** fold 2 *****\n",
      "[[382   7]\n",
      " [ 21  40]]\n",
      "              precision    recall  f1-score   support\n",
      "\n",
      "           0       0.95      0.98      0.96       389\n",
      "           1       0.85      0.66      0.74        61\n",
      "\n",
      "    accuracy                           0.94       450\n",
      "   macro avg       0.90      0.82      0.85       450\n",
      "weighted avg       0.93      0.94      0.93       450\n",
      "\n"
     ]
    }
   ],
   "source": [
    "fold = 0\n",
    "for train_index, test_index in kfold.split(df_open_data.text, df_open_data.open_data):\n",
    "    x_train = cv.fit_transform(df_open_data.text[train_index])\n",
    "    one_hots_train = enc.fit_transform(df_open_data[['section', 'Journal Title', 'Year']].iloc[train_index])\n",
    "    y_train = df_open_data.open_data[train_index]\n",
    "    x_test = cv.transform(df_open_data.text[test_index])\n",
    "    one_hots_test = enc.transform(df_open_data[['section', 'Journal Title', 'Year']].iloc[test_index])\n",
    "    y_test = df_open_data.open_data[test_index]\n",
    "    \n",
    "    x_train = hstack([x_train, one_hots_train])\n",
    "    x_test = hstack([x_test, one_hots_test])\n",
    "    \n",
    "    clf = AdaBoostClassifier()\n",
    "    clf.fit(x_train, y_train)\n",
    "    y_pred = clf.predict(x_test)\n",
    "    print('***** fold {} *****'.format(fold))\n",
    "    print(confusion_matrix(y_test, y_pred))\n",
    "    print(classification_report(y_test, y_pred))\n",
    "    fold = fold + 1"
   ]
  },
  {
   "cell_type": "markdown",
   "metadata": {},
   "source": [
    "# Get some ROC curves"
   ]
  },
  {
   "cell_type": "code",
   "execution_count": 438,
   "metadata": {},
   "outputs": [
    {
     "name": "stderr",
     "output_type": "stream",
     "text": [
      "/home/riddleta/ac_knowl/ac_knowl/lib/python3.7/site-packages/ipykernel_launcher.py:2: SettingWithCopyWarning: \n",
      "A value is trying to be set on a copy of a slice from a DataFrame.\n",
      "Try using .loc[row_indexer,col_indexer] = value instead\n",
      "\n",
      "See the caveats in the documentation: http://pandas.pydata.org/pandas-docs/stable/user_guide/indexing.html#returning-a-view-versus-a-copy\n",
      "  \n"
     ]
    }
   ],
   "source": [
    "df_open_data = df[~pd.isnull(df.open_data)]\n",
    "df_open_data['open_data'] = df_open_data.open_data.astype('int')\n",
    "df_open_data.reset_index(inplace=True)\n",
    "df_open_data.open_data.value_counts()\n",
    "#df_open_data.columns\n",
    "#pd.isnull(df_open_data.data_sharing).value_counts()\n",
    "X_train, X_test, y_train, y_test = train_test_split(df_open_data.text, df_open_data.open_data, \n",
    "                                                    test_size=0.33, random_state=42, \n",
    "                                                    stratify=df_open_data.open_data)"
   ]
  },
  {
   "cell_type": "code",
   "execution_count": 439,
   "metadata": {},
   "outputs": [],
   "source": [
    "cv = CountVectorizer(stop_words=stop_words.ENGLISH_STOP_WORDS)\n",
    "enc = OneHotEncoder(handle_unknown='ignore')"
   ]
  },
  {
   "cell_type": "code",
   "execution_count": 440,
   "metadata": {},
   "outputs": [],
   "source": [
    "x_train = cv.fit_transform(X_train)\n",
    "one_hots_train = enc.fit_transform(df_open_data[['section', 'Journal Title', 'Year']].iloc[X_train.index])\n",
    "x_test = cv.transform(X_test)\n",
    "one_hots_test = enc.transform(df_open_data[['section', 'Journal Title', 'Year']].iloc[X_test.index])\n",
    "\n",
    "x_train = hstack([x_train, one_hots_train])\n",
    "x_test = hstack([x_test, one_hots_test])\n",
    "\n",
    "clf = AdaBoostClassifier()\n",
    "y_score = clf.fit(x_train, y_train).decision_function(x_test)\n",
    "y_pred = clf.predict(x_test)\n",
    "fpr,tpr,_ = roc_curve(y_test, y_score)\n",
    "tmp_df = pd.DataFrame({'tpr':tpr,\n",
    "                       'fpr':fpr,\n",
    "                       'auc':auc(fpr,tpr),\n",
    "                       'clf':'Adaboost',\n",
    "                       'pred':'open_data'})\n",
    "\n",
    "clf = MultinomialNB()\n",
    "clf.fit(x_train, y_train)\n",
    "y_score = clf.predict_proba(x_test)[:,1]\n",
    "y_pred = clf.predict(x_test)\n",
    "fpr2,tpr2,_ = roc_curve(y_test, y_score)\n",
    "tmp_df2 = pd.DataFrame({'tpr':tpr2,\n",
    "                       'fpr':fpr2,\n",
    "                       'auc':auc(fpr2,tpr2),\n",
    "                       'clf':'MultinomialNB',\n",
    "                       'pred':'open_data'})\n",
    "df_out = pd.concat([tmp_df, tmp_df2])"
   ]
  },
  {
   "cell_type": "code",
   "execution_count": 449,
   "metadata": {},
   "outputs": [
    {
     "data": {
      "text/plain": [
       "'All analyses were stratified by genetic ancestry. An outline of the primary analyses can be found in Supplemental Table S2 and more detailed descriptions of the planned analyses are provided in our published protocol. All code and documents relevant for running the analyses and meta-analysis are available in the public repository at https://github.com/achorton/SD_5HTTLPR.'"
      ]
     },
     "execution_count": 449,
     "metadata": {},
     "output_type": "execute_result"
    }
   ],
   "source": [
    "clf = AdaBoostClassifier()\n",
    "y_score = clf.fit(x_train, y_train).decision_function(x_test)\n",
    "y_pred = clf.predict(x_test)\n",
    "df_egs = df_open_data.loc[X_test.index]\n",
    "df_egs['y_pred'] = y_pred\n",
    "df_egs[df_egs.open_data != df_egs.y_pred]\n",
    "df_fp = df_egs[df_egs.open_data==1]\n",
    "df_fp.text.iloc[8]"
   ]
  },
  {
   "cell_type": "code",
   "execution_count": 409,
   "metadata": {},
   "outputs": [
    {
     "name": "stderr",
     "output_type": "stream",
     "text": [
      "/home/riddleta/ac_knowl/ac_knowl/lib/python3.7/site-packages/ipykernel_launcher.py:2: SettingWithCopyWarning: \n",
      "A value is trying to be set on a copy of a slice from a DataFrame.\n",
      "Try using .loc[row_indexer,col_indexer] = value instead\n",
      "\n",
      "See the caveats in the documentation: http://pandas.pydata.org/pandas-docs/stable/user_guide/indexing.html#returning-a-view-versus-a-copy\n",
      "  \n"
     ]
    }
   ],
   "source": [
    "df_data_sharing = df[~pd.isnull(df.data_sharing)]\n",
    "df_data_sharing['data_sharing'] = df_data_sharing.data_sharing.astype('int')\n",
    "df_data_sharing.reset_index(inplace=True)\n",
    "X_train, X_test, y_train, y_test = train_test_split(df_data_sharing.text, df_data_sharing.data_sharing, \n",
    "                                                    test_size=0.33, random_state=42, \n",
    "                                                    stratify=df_data_sharing.data_sharing)"
   ]
  },
  {
   "cell_type": "code",
   "execution_count": 410,
   "metadata": {},
   "outputs": [],
   "source": [
    "x_train = cv.fit_transform(X_train)\n",
    "one_hots_train = enc.fit_transform(df_data_sharing[['section', 'Journal Title', 'Year']].iloc[X_train.index])\n",
    "x_test = cv.transform(X_test)\n",
    "one_hots_test = enc.transform(df_data_sharing[['section', 'Journal Title', 'Year']].iloc[X_test.index])\n",
    "\n",
    "x_train = hstack([x_train, one_hots_train])\n",
    "x_test = hstack([x_test, one_hots_test])\n",
    "\n",
    "clf = AdaBoostClassifier()\n",
    "y_score = clf.fit(x_train, y_train).decision_function(x_test)\n",
    "y_pred = clf.predict(x_test)\n",
    "fpr,tpr,_ = roc_curve(y_test, y_score)\n",
    "tmp_df = pd.DataFrame({'tpr':tpr,\n",
    "                       'fpr':fpr,\n",
    "                       'auc':auc(fpr,tpr),\n",
    "                       'clf':'Adaboost',\n",
    "                       'pred':'data_sharing'})\n",
    "\n",
    "clf = MultinomialNB()\n",
    "clf.fit(x_train, y_train)\n",
    "y_score = clf.predict_proba(x_test)[:,1]\n",
    "y_pred = clf.predict(x_test)\n",
    "fpr2,tpr2,_ = roc_curve(y_test, y_score)\n",
    "tmp_df2 = pd.DataFrame({'tpr':tpr2,\n",
    "                       'fpr':fpr2,\n",
    "                       'auc':auc(fpr2,tpr2),\n",
    "                       'clf':'MultinomialNB',\n",
    "                       'pred':'data_sharing'})\n",
    "df_out = pd.concat([df_out, tmp_df, tmp_df2])"
   ]
  },
  {
   "cell_type": "code",
   "execution_count": 435,
   "metadata": {},
   "outputs": [
    {
     "data": {
      "text/plain": [
       "'Author information: Data included in this manuscript has been deposited at dbGaP under accession number phs000298.v1.p1 and is available for download at http://www.ncbi.nlm.nih.gov/projects/gap/cgi-bin/study.cgi?study_id=phs000298.v1.p1'"
      ]
     },
     "execution_count": 435,
     "metadata": {},
     "output_type": "execute_result"
    }
   ],
   "source": [
    "clf = AdaBoostClassifier()\n",
    "y_score = clf.fit(x_train, y_train).decision_function(x_test)\n",
    "y_pred = clf.predict(x_test)\n",
    "df_egs = df_data_sharing.loc[X_test.index]\n",
    "df_egs['y_pred'] = y_pred\n",
    "df_egs[df_egs.data_sharing != df_egs.y_pred]\n",
    "df_fp = df_egs[df_egs.data_sharing==1]\n",
    "df_fp.text.iloc[2]"
   ]
  },
  {
   "cell_type": "code",
   "execution_count": 413,
   "metadata": {},
   "outputs": [
    {
     "name": "stderr",
     "output_type": "stream",
     "text": [
      "No handles with labels found to put in legend.\n"
     ]
    },
    {
     "data": {
      "image/png": "[encoded data removed]",
      "text/plain": [
       "<Figure size 432x288 with 1 Axes>"
      ]
     },
     "metadata": {
      "needs_background": "light"
     },
     "output_type": "display_data"
    }
   ],
   "source": [
    "plt.figure()\n",
    "lw = 2\n",
    "plt.plot(fpr, tpr, color='darkorange',\n",
    "         lw=lw)\n",
    "plt.plot(fpr2, tpr2, color='darkgreen',\n",
    "         lw=lw)\n",
    "plt.plot([0, 1], [0, 1], color='navy', lw=lw, linestyle='--')\n",
    "plt.xlim([0.0, 1.0])\n",
    "plt.ylim([0.0, 1.05])\n",
    "plt.xlabel('False Positive Rate')\n",
    "plt.ylabel('True Positive Rate')\n",
    "plt.legend(loc=\"lower right\")\n",
    "plt.show()"
   ]
  },
  {
   "cell_type": "code",
   "execution_count": 323,
   "metadata": {},
   "outputs": [],
   "source": [
    "df_out.to_csv('output/clf_scores.csv', index=False)"
   ]
  },
  {
   "cell_type": "code",
   "execution_count": null,
   "metadata": {},
   "outputs": [],
   "source": []
  }
 ],
 "metadata": {
  "kernelspec": {
   "display_name": "ac_knowl",
   "language": "python",
   "name": "ac_knowl"
  },
  "language_info": {
   "codemirror_mode": {
    "name": "ipython",
    "version": 3
   },
   "file_extension": ".py",
   "mimetype": "text/x-python",
   "name": "python",
   "nbconvert_exporter": "python",
   "pygments_lexer": "ipython3",
   "version": "3.7.3"
  }
 },
 "nbformat": 4,
 "nbformat_minor": 2
}
