{
 "cells": [
  {
   "cell_type": "code",
   "execution_count": 151,
   "metadata": {},
   "outputs": [],
   "source": [
    "import pandas as pd\n",
    "import glob\n",
    "import json\n",
    "import requests"
   ]
  },
  {
   "cell_type": "markdown",
   "metadata": {},
   "source": [
    "# Creating an index file\n",
    "One of the problems with this database as it stands is that I'm not sure where to find the fulltext of a given paper.\n",
    "\n",
    "To solve this, I'm going to create an index file that has the filepath and paper number for each paper we might be interested in. This will serve as a sort of master list of where to find things.\n",
    "\n",
    "## Get locations of everything\n",
    "Note that somehow I got duplicates of some papers, so this loop goes through and keeps all the originals, and puts the duplicates aside"
   ]
  },
  {
   "cell_type": "code",
   "execution_count": 2,
   "metadata": {},
   "outputs": [],
   "source": [
    "already_retrieved = glob.glob('/home/riddleta/ac_knowl/output/full_texts/papes*')"
   ]
  },
  {
   "cell_type": "code",
   "execution_count": 153,
   "metadata": {},
   "outputs": [],
   "source": [
    "status_prints = [i for i in range(0, 3000000, 100000)]"
   ]
  },
  {
   "cell_type": "code",
   "execution_count": 155,
   "metadata": {},
   "outputs": [
    {
     "name": "stdout",
     "output_type": "stream",
     "text": [
      "0\n",
      "100000\n",
      "199999\n",
      "299998\n",
      "399997\n",
      "499995\n",
      "599994\n",
      "699993\n",
      "799993\n",
      "899992\n",
      "999992\n",
      "1099991\n",
      "1199989\n",
      "1299988\n",
      "1399985\n",
      "1499985\n",
      "1599983\n",
      "1699960\n",
      "1799958\n",
      "1899953\n",
      "1984347\n",
      "2084346\n",
      "2184345\n",
      "2284344\n",
      "2384342\n",
      "2483410\n",
      "2583339\n"
     ]
    }
   ],
   "source": [
    "file_string = []\n",
    "pmcid = []\n",
    "paper_number = []\n",
    "\n",
    "file_string_dupes = []\n",
    "pmcid_dupes = []\n",
    "paper_number_dupes = []\n",
    "\n",
    "for i in already_retrieved:\n",
    "    with open(i) as infile:\n",
    "        dat = json.load(infile)\n",
    "        for j, paper in enumerate(dat):\n",
    "            if len(pmcid)+len(pmcid_dupes) in status_prints:\n",
    "                print(len(pmcid))\n",
    "            pap_id = paper['documents'][0]['id']\n",
    "            if pap_id not in pmcid:\n",
    "                pmcid.append(pap_id)\n",
    "                file_string.append(i)\n",
    "                paper_number.append(j)\n",
    "            else:\n",
    "                pmcid_dupes.append(pap_id)\n",
    "                file_string_dupes.append(i)\n",
    "                paper_number_dupes.append(j)"
   ]
  },
  {
   "cell_type": "code",
   "execution_count": 159,
   "metadata": {},
   "outputs": [],
   "source": [
    "df = pd.DataFrame({'file':file_string,\n",
    "                   'pmcid':pmcid,\n",
    "                   'paper_number':paper_number})\n",
    "\n",
    "df_dupes = pd.DataFrame({'file':file_string_dupes,\n",
    "                        'pmcid':pmcid_dupes,\n",
    "                        'paper_number':paper_number_dupes})"
   ]
  },
  {
   "cell_type": "code",
   "execution_count": 160,
   "metadata": {},
   "outputs": [],
   "source": [
    "df.to_csv('/home/riddleta/ac_knowl/output/file_index.csv', index=False)"
   ]
  },
  {
   "cell_type": "code",
   "execution_count": 161,
   "metadata": {},
   "outputs": [],
   "source": [
    "df_dupes.to_csv('/home/riddleta/ac_knowl/output/file_index_dupes.csv', index=False)"
   ]
  },
  {
   "cell_type": "code",
   "execution_count": 162,
   "metadata": {},
   "outputs": [
    {
     "data": {
      "text/plain": [
       "(2599524, 3)"
      ]
     },
     "execution_count": 162,
     "metadata": {},
     "output_type": "execute_result"
    }
   ],
   "source": [
    "df.shape"
   ]
  },
  {
   "cell_type": "markdown",
   "metadata": {},
   "source": [
    "# Notes\n",
    "\n",
    "\n",
    "for grants:\n",
    "https://dpcpsi.nih.gov/eo/intranet/opa/training/class_material\n",
    "\n",
    "and NIH reporter\n",
    "\n",
    "and original icite paper"
   ]
  }
 ],
 "metadata": {
  "kernelspec": {
   "display_name": "ac_knowl",
   "language": "python",
   "name": "ac_knowl"
  },
  "language_info": {
   "codemirror_mode": {
    "name": "ipython",
    "version": 3
   },
   "file_extension": ".py",
   "mimetype": "text/x-python",
   "name": "python",
   "nbconvert_exporter": "python",
   "pygments_lexer": "ipython3",
   "version": "3.7.1"
  }
 },
 "nbformat": 4,
 "nbformat_minor": 2
}
