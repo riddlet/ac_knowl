{
 "cells": [
  {
   "cell_type": "code",
   "execution_count": 629,
   "metadata": {},
   "outputs": [],
   "source": [
    "import numpy as np\n",
    "import pandas as pd\n",
    "import json\n",
    "import glob\n",
    "\n",
    "from modAL.models import ActiveLearner\n",
    "from modAL.uncertainty import uncertainty_sampling\n",
    "\n",
    "from sklearn.datasets import load_digits\n",
    "from sklearn.model_selection import StratifiedShuffleSplit\n",
    "from sklearn.naive_bayes import MultinomialNB\n",
    "from sklearn.ensemble import AdaBoostClassifier\n",
    "from sklearn.feature_extraction.text import CountVectorizer\n",
    "from sklearn.metrics import f1_score, classification_report, confusion_matrix\n",
    "from sklearn.preprocessing import OneHotEncoder\n",
    "\n",
    "import scipy\n",
    "from scipy.sparse import hstack\n",
    "\n",
    "from IPython import display\n",
    "from matplotlib import pyplot as plt\n",
    "%matplotlib inline"
   ]
  },
  {
   "cell_type": "code",
   "execution_count": 630,
   "metadata": {},
   "outputs": [],
   "source": [
    "## Helper function\n",
    "def delete_row_csr(mat, i):\n",
    "    if not isinstance(mat, scipy.sparse.csr_matrix):\n",
    "        raise ValueError(\"works only for CSR format -- use .tocsr() first\")\n",
    "    n = mat.indptr[i+1] - mat.indptr[i]\n",
    "    if n > 0:\n",
    "        mat.data[mat.indptr[i]:-n] = mat.data[mat.indptr[i+1]:]\n",
    "        mat.data = mat.data[:-n]\n",
    "        mat.indices[mat.indptr[i]:-n] = mat.indices[mat.indptr[i+1]:]\n",
    "        mat.indices = mat.indices[:-n]\n",
    "    mat.indptr[i:-1] = mat.indptr[i+1:]\n",
    "    mat.indptr[i:] -= n\n",
    "    mat.indptr = mat.indptr[:-1]\n",
    "    mat._shape = (mat._shape[0]-1, mat._shape[1])\n",
    "    \n",
    "    return(mat)"
   ]
  },
  {
   "cell_type": "markdown",
   "metadata": {},
   "source": [
    "## The dataset\n",
    "Now we set up the initial training set for our classifier. I need to pull out a bunch of passages to have a pool to select from."
   ]
  },
  {
   "cell_type": "code",
   "execution_count": 631,
   "metadata": {},
   "outputs": [
    {
     "name": "stderr",
     "output_type": "stream",
     "text": [
      "/home/riddleta/ac_knowl/ac_knowl/lib/python3.7/site-packages/ipykernel_launcher.py:2: FutureWarning: Sorting because non-concatenation axis is not aligned. A future version\n",
      "of pandas will change to not sort by default.\n",
      "\n",
      "To accept the future behavior, pass 'sort=False'.\n",
      "\n",
      "To retain the current behavior and silence the warning, pass 'sort=True'.\n",
      "\n",
      "  \n",
      "/home/riddleta/ac_knowl/ac_knowl/lib/python3.7/site-packages/ipykernel_launcher.py:7: FutureWarning: Sorting because non-concatenation axis is not aligned. A future version\n",
      "of pandas will change to not sort by default.\n",
      "\n",
      "To accept the future behavior, pass 'sort=False'.\n",
      "\n",
      "To retain the current behavior and silence the warning, pass 'sort=True'.\n",
      "\n",
      "  import sys\n",
      "/home/riddleta/ac_knowl/ac_knowl/lib/python3.7/site-packages/IPython/core/interactiveshell.py:3049: DtypeWarning: Columns (4,5,10) have mixed types. Specify dtype option on import or set low_memory=False.\n",
      "  interactivity=interactivity, compiler=compiler, result=result)\n",
      "/home/riddleta/ac_knowl/ac_knowl/lib/python3.7/site-packages/ipykernel_launcher.py:11: FutureWarning: Sorting because non-concatenation axis is not aligned. A future version\n",
      "of pandas will change to not sort by default.\n",
      "\n",
      "To accept the future behavior, pass 'sort=False'.\n",
      "\n",
      "To retain the current behavior and silence the warning, pass 'sort=True'.\n",
      "\n",
      "  # This is added back by InteractiveShellApp.init_path()\n"
     ]
    }
   ],
   "source": [
    "labeled_files = glob.glob('output/labeled_data/*.csv')\n",
    "df_labeled = pd.concat((pd.read_csv(f) for f in labeled_files))\n",
    "\n",
    "ds_files = glob.glob('output/labeled_data/active_learning_labels/data_sharing*.csv')\n",
    "od_files = glob.glob('output/labeled_data/active_learning_labels/open_data*.csv')\n",
    "df_data_sharing_al = pd.concat((pd.read_csv(f) for f in ds_files))\n",
    "df_open_data_al = pd.concat((pd.read_csv(f) for f in od_files))\n",
    "\n",
    "df_pmcids = pd.read_csv('data/PMC-ids.csv')\n",
    "\n",
    "df = pd.concat([df_labeled, df_data_sharing_al, df_open_data_al])\n",
    "df.reset_index(inplace=True)"
   ]
  },
  {
   "cell_type": "code",
   "execution_count": 632,
   "metadata": {},
   "outputs": [],
   "source": [
    "#add some manuscript-level information\n",
    "df['pmcid'] = df.pmcid.astype('str')\n",
    "df['offset'] = df.paper_offset.astype('str')\n",
    "df_pmcids['pmcid'] = df_pmcids.PMCID.apply(lambda x: str(x)[3:])\n",
    "df = df.merge(df_pmcids, how='left', on='pmcid')\n",
    "df['pmcid-offset'] = df.apply(lambda x: x['pmcid']+'-'+x['offset'], axis=1)"
   ]
  },
  {
   "cell_type": "code",
   "execution_count": 633,
   "metadata": {},
   "outputs": [
    {
     "name": "stderr",
     "output_type": "stream",
     "text": [
      "/home/riddleta/ac_knowl/ac_knowl/lib/python3.7/site-packages/IPython/core/interactiveshell.py:3049: DtypeWarning: Columns (1) have mixed types. Specify dtype option on import or set low_memory=False.\n",
      "  interactivity=interactivity, compiler=compiler, result=result)\n"
     ]
    }
   ],
   "source": [
    "nimh_papers = pd.read_csv('output/nimh_papers.csv')\n",
    "#load file index\n",
    "file_ix = pd.read_csv('output/file_index.csv')"
   ]
  },
  {
   "cell_type": "code",
   "execution_count": 634,
   "metadata": {
    "scrolled": true
   },
   "outputs": [
    {
     "data": {
      "text/plain": [
       "(3000,)"
      ]
     },
     "execution_count": 634,
     "metadata": {},
     "output_type": "execute_result"
    }
   ],
   "source": [
    "#pull a sample of papers for the \"pool\" to learn from\n",
    "sampled_papers = pd.Series(nimh_papers.pmcid.unique()).sample(3000, replace=False)\n",
    "sampled_papers.shape"
   ]
  },
  {
   "cell_type": "code",
   "execution_count": 635,
   "metadata": {},
   "outputs": [
    {
     "data": {
      "text/plain": [
       "(2681, 3)"
      ]
     },
     "execution_count": 635,
     "metadata": {},
     "output_type": "execute_result"
    }
   ],
   "source": [
    "#file_locs = file_ix[file_ix.pmcid.isin(nimh_papers.pmcid.unique())]\n",
    "file_locs = file_ix[file_ix.pmcid.isin(sampled_papers.unique().tolist())]\n",
    "file_locs.shape"
   ]
  },
  {
   "cell_type": "code",
   "execution_count": 636,
   "metadata": {},
   "outputs": [
    {
     "name": "stderr",
     "output_type": "stream",
     "text": [
      "/home/riddleta/ac_knowl/ac_knowl/lib/python3.7/site-packages/ipykernel_launcher.py:1: SettingWithCopyWarning: \n",
      "A value is trying to be set on a copy of a slice from a DataFrame.\n",
      "Try using .loc[row_indexer,col_indexer] = value instead\n",
      "\n",
      "See the caveats in the documentation: http://pandas.pydata.org/pandas-docs/stable/user_guide/indexing.html#returning-a-view-versus-a-copy\n",
      "  \"\"\"Entry point for launching an IPython kernel.\n"
     ]
    }
   ],
   "source": [
    "file_locs['pmcid'] = file_locs.pmcid.astype('str')\n",
    "file_locs = file_locs.sort_values('file')"
   ]
  },
  {
   "cell_type": "code",
   "execution_count": 637,
   "metadata": {},
   "outputs": [],
   "source": [
    "out_dat = []\n",
    "last_file = ''\n",
    "for i, file_path in enumerate(file_locs.file):\n",
    "    if last_file == file_path:\n",
    "        paper = dat[file_locs.paper_number.iloc[i]]\n",
    "        for j in paper['documents'][0]['passages']:\n",
    "            if 'section_type' in list(j['infons'].keys()):\n",
    "                if j['infons']['section_type'] != 'REF':\n",
    "                    pmc_and_offset = file_locs.pmcid.iloc[i] + '-' + str(j['offset'])\n",
    "                    if pmc_and_offset not in df['pmcid-offset'].tolist():\n",
    "                        out_dat.append([j['text'], j['offset'], file_locs.pmcid.iloc[i], j['infons']['section_type']])\n",
    "        last_file = file_path\n",
    "        \n",
    "    else:    \n",
    "        with open(file_path[24:]) as infile:\n",
    "            dat = json.load(infile)\n",
    "            paper = dat[file_locs.paper_number.iloc[i]]\n",
    "            for j in paper['documents'][0]['passages']:\n",
    "                if 'section_type' in list(j['infons'].keys()):\n",
    "                    if j['infons']['section_type'] != 'REF':\n",
    "                        pmc_and_offset = file_locs.pmcid.iloc[i] + '-' + str(j['offset'])\n",
    "                        if pmc_and_offset not in df['pmcid-offset'].tolist():\n",
    "                            out_dat.append([j['text'], j['offset'], file_locs.pmcid.iloc[i], j['infons']['section_type']])\n",
    "            last_file = file_path\n"
   ]
  },
  {
   "cell_type": "code",
   "execution_count": 638,
   "metadata": {},
   "outputs": [
    {
     "data": {
      "text/plain": [
       "(207831, 16)"
      ]
     },
     "execution_count": 638,
     "metadata": {},
     "output_type": "execute_result"
    }
   ],
   "source": [
    "df_pool = pd.DataFrame(out_dat, columns=['text', 'offset', 'pmcid', 'section'])\n",
    "df_pool['pmcid'] = df_pool.pmcid.astype('str')\n",
    "df_pool = df_pool.merge(df_pmcids, how='left', on='pmcid')\n",
    "df_pool.shape"
   ]
  },
  {
   "cell_type": "code",
   "execution_count": 639,
   "metadata": {},
   "outputs": [
    {
     "data": {
      "text/plain": [
       "Index(['index', 'data_sharing', 'doi', 'open_data', 'paper_offset', 'pmcid',\n",
       "       'repo', 'section', 'text', 'offset', 'Journal Title', 'ISSN', 'eISSN',\n",
       "       'Year', 'Volume', 'Issue', 'Page', 'DOI', 'PMCID', 'PMID',\n",
       "       'Manuscript Id', 'Release Date', 'pmcid-offset'],\n",
       "      dtype='object')"
      ]
     },
     "execution_count": 639,
     "metadata": {},
     "output_type": "execute_result"
    }
   ],
   "source": [
    "df.columns"
   ]
  },
  {
   "cell_type": "markdown",
   "metadata": {},
   "source": [
    "## Split data into data sharing and open data sets"
   ]
  },
  {
   "cell_type": "code",
   "execution_count": 640,
   "metadata": {},
   "outputs": [
    {
     "name": "stderr",
     "output_type": "stream",
     "text": [
      "/home/riddleta/ac_knowl/ac_knowl/lib/python3.7/site-packages/ipykernel_launcher.py:2: SettingWithCopyWarning: \n",
      "A value is trying to be set on a copy of a slice from a DataFrame.\n",
      "Try using .loc[row_indexer,col_indexer] = value instead\n",
      "\n",
      "See the caveats in the documentation: http://pandas.pydata.org/pandas-docs/stable/user_guide/indexing.html#returning-a-view-versus-a-copy\n",
      "  \n"
     ]
    },
    {
     "data": {
      "text/plain": [
       "0    1167\n",
       "1     184\n",
       "Name: open_data, dtype: int64"
      ]
     },
     "execution_count": 640,
     "metadata": {},
     "output_type": "execute_result"
    }
   ],
   "source": [
    "df_open_data = df[~pd.isnull(df.open_data)]\n",
    "df_open_data['open_data'] = df_open_data.open_data.astype('int')\n",
    "df_open_data.reset_index(inplace=True)\n",
    "df_open_data.open_data.value_counts()"
   ]
  },
  {
   "cell_type": "code",
   "execution_count": 641,
   "metadata": {},
   "outputs": [
    {
     "name": "stderr",
     "output_type": "stream",
     "text": [
      "/home/riddleta/ac_knowl/ac_knowl/lib/python3.7/site-packages/ipykernel_launcher.py:2: SettingWithCopyWarning: \n",
      "A value is trying to be set on a copy of a slice from a DataFrame.\n",
      "Try using .loc[row_indexer,col_indexer] = value instead\n",
      "\n",
      "See the caveats in the documentation: http://pandas.pydata.org/pandas-docs/stable/user_guide/indexing.html#returning-a-view-versus-a-copy\n",
      "  \n",
      "/home/riddleta/ac_knowl/ac_knowl/lib/python3.7/site-packages/pandas/core/generic.py:6288: SettingWithCopyWarning: \n",
      "A value is trying to be set on a copy of a slice from a DataFrame\n",
      "\n",
      "See the caveats in the documentation: http://pandas.pydata.org/pandas-docs/stable/user_guide/indexing.html#returning-a-view-versus-a-copy\n",
      "  self._update_inplace(new_data)\n"
     ]
    },
    {
     "data": {
      "text/plain": [
       "0    1285\n",
       "1      66\n",
       "Name: data_sharing, dtype: int64"
      ]
     },
     "execution_count": 641,
     "metadata": {},
     "output_type": "execute_result"
    }
   ],
   "source": [
    "df_data_sharing = df[~pd.isnull(df.data_sharing)]\n",
    "df_data_sharing['data_sharing'] = df_data_sharing.data_sharing.astype('int')\n",
    "df_data_sharing.reset_index(inplace=True)\n",
    "df_data_sharing.text.fillna('', inplace=True)\n",
    "df_data_sharing.data_sharing.value_counts()"
   ]
  },
  {
   "cell_type": "markdown",
   "metadata": {},
   "source": [
    "## Active learning for open data"
   ]
  },
  {
   "cell_type": "code",
   "execution_count": 642,
   "metadata": {},
   "outputs": [],
   "source": [
    "X = df_open_data.text\n",
    "y = df_open_data.open_data\n",
    "#X, y = load_digits(return_X_y=True)\n",
    "\n",
    "train_x, test_x, y_train, y_test = train_test_split(X, y, stratify=y, test_size=.4)\n",
    "\n",
    "cv = CountVectorizer()\n",
    "enc = OneHotEncoder(handle_unknown='ignore')\n",
    "\n",
    "x_text_train = cv.fit_transform(train_x)\n",
    "one_hots_train = enc.fit_transform(df_open_data[['section', 'Journal Title', 'Year']].iloc[train_x.index])\n",
    "y_train = np.array(y_train)\n",
    "x_text_test = cv.transform(test_x)\n",
    "one_hots_test = enc.transform(df_open_data[['section', 'Journal Title', 'Year']].iloc[test_x.index])\n",
    "y_test = np.array(y_test)\n",
    "\n",
    "x_train = hstack([x_text_train, one_hots_train])\n",
    "x_test = hstack([x_text_test, one_hots_test])\n",
    "\n",
    "#X_initial, y_initial = X_train[initial_idx], y_train[initial_idx]\n",
    "x_text_pool = cv.transform(df_pool.text)\n",
    "x_pool_one_hots = enc.transform(df_pool[['section', 'Journal Title', 'Year']])\n",
    "x_pool = hstack([x_text_pool, x_pool_one_hots]).tocsr()"
   ]
  },
  {
   "cell_type": "code",
   "execution_count": 643,
   "metadata": {},
   "outputs": [
    {
     "data": {
      "text/plain": [
       "<207831x10052 sparse matrix of type '<class 'numpy.float64'>'\n",
       "\twith 8612531 stored elements in Compressed Sparse Row format>"
      ]
     },
     "execution_count": 643,
     "metadata": {},
     "output_type": "execute_result"
    }
   ],
   "source": [
    "x_pool"
   ]
  },
  {
   "cell_type": "markdown",
   "metadata": {},
   "source": [
    "### Initializing the learner\n",
    "Now we initialize the active learner. "
   ]
  },
  {
   "cell_type": "code",
   "execution_count": 644,
   "metadata": {},
   "outputs": [],
   "source": [
    "learner = ActiveLearner(\n",
    "    estimator=AdaBoostClassifier(),\n",
    "    query_strategy=uncertainty_sampling,\n",
    "    X_training=x_train, y_training=y_train\n",
    ")"
   ]
  },
  {
   "cell_type": "markdown",
   "metadata": {},
   "source": [
    "We also set how many queries we want to make. The more the better! (Usually :) )"
   ]
  },
  {
   "cell_type": "code",
   "execution_count": 645,
   "metadata": {},
   "outputs": [
    {
     "data": {
      "text/plain": [
       "0.6666666666666667"
      ]
     },
     "execution_count": 645,
     "metadata": {},
     "output_type": "execute_result"
    }
   ],
   "source": [
    "f1_score(learner.predict(x_test), y_test)"
   ]
  },
  {
   "cell_type": "code",
   "execution_count": 646,
   "metadata": {},
   "outputs": [
    {
     "name": "stdout",
     "output_type": "stream",
     "text": [
      "              precision    recall  f1-score   support\n",
      "\n",
      "           0       0.97      0.94      0.95       483\n",
      "           1       0.59      0.76      0.67        58\n",
      "\n",
      "    accuracy                           0.92       541\n",
      "   macro avg       0.78      0.85      0.81       541\n",
      "weighted avg       0.93      0.92      0.92       541\n",
      "\n",
      "[[453  30]\n",
      " [ 14  44]]\n"
     ]
    }
   ],
   "source": [
    "print(classification_report(learner.predict(x_test), y_test))\n",
    "print(confusion_matrix(learner.predict(x_test), y_test))"
   ]
  },
  {
   "cell_type": "code",
   "execution_count": 647,
   "metadata": {},
   "outputs": [],
   "source": [
    "n_queries = 100"
   ]
  },
  {
   "cell_type": "markdown",
   "metadata": {},
   "source": [
    "## The active learning loop"
   ]
  },
  {
   "cell_type": "code",
   "execution_count": 648,
   "metadata": {},
   "outputs": [
    {
     "name": "stdout",
     "output_type": "stream",
     "text": [
      "Results\n"
     ]
    },
    {
     "data": {
      "image/png": "[encoded data removed]",
      "text/plain": [
       "<Figure size 720x360 with 1 Axes>"
      ]
     },
     "metadata": {},
     "output_type": "display_data"
    },
    {
     "name": "stdout",
     "output_type": "stream",
     "text": [
      "Open Data?\n",
      "0\n"
     ]
    }
   ],
   "source": [
    "accuracy_scores = [f1_score(learner.predict(x_test), y_test)]\n",
    "queried_data = pd.DataFrame()\n",
    "labels = []\n",
    "\n",
    "for i in range(n_queries):\n",
    "    display.clear_output(wait=True)\n",
    "    query_idx, query_inst = learner.query(x_pool)\n",
    "    with plt.style.context('seaborn-white'):\n",
    "        print(df_pool.text[query_idx].iloc[0])\n",
    "        plt.figure(figsize=(10, 5))\n",
    "        plt.title('Accuracy of your model')\n",
    "        plt.plot(range(i+1), accuracy_scores)\n",
    "        plt.scatter(range(i+1), accuracy_scores)\n",
    "        plt.xlabel('number of queries')\n",
    "        plt.ylabel('accuracy')\n",
    "        display.display(plt.gcf())\n",
    "        plt.close('all')\n",
    "\n",
    "    print(\"Open Data?\")\n",
    "    y_new = np.array([int(input())], dtype=int)\n",
    "    learner.teach(query_inst, y_new)\n",
    "    x_pool = delete_row_csr(x_pool, query_idx[0])\n",
    "    #X_pool, y_pool = np.delete(X_pool, query_idx, axis=0)#, np.delete(y_pool, query_idx, axis=0)\n",
    "    accuracy_scores.append(f1_score(learner.predict(x_test), y_test))\n",
    "    temp = df_pool[['text', 'offset', 'pmcid', 'section', 'DOI']].iloc[query_idx]\n",
    "    labels.append(y_new[0])\n",
    "    queried_data = pd.concat([queried_data, temp])\n",
    "\n",
    "queried_data['open_data'] = labels"
   ]
  },
  {
   "cell_type": "code",
   "execution_count": 649,
   "metadata": {},
   "outputs": [
    {
     "data": {
      "text/html": [
       "<div>\n",
       "<style scoped>\n",
       "    .dataframe tbody tr th:only-of-type {\n",
       "        vertical-align: middle;\n",
       "    }\n",
       "\n",
       "    .dataframe tbody tr th {\n",
       "        vertical-align: top;\n",
       "    }\n",
       "\n",
       "    .dataframe thead th {\n",
       "        text-align: right;\n",
       "    }\n",
       "</style>\n",
       "<table border=\"1\" class=\"dataframe\">\n",
       "  <thead>\n",
       "    <tr style=\"text-align: right;\">\n",
       "      <th></th>\n",
       "      <th>text</th>\n",
       "      <th>offset</th>\n",
       "      <th>pmcid</th>\n",
       "      <th>section</th>\n",
       "      <th>DOI</th>\n",
       "      <th>open_data</th>\n",
       "    </tr>\n",
       "  </thead>\n",
       "  <tbody>\n",
       "    <tr>\n",
       "      <th>123574</th>\n",
       "      <td>Lessons derived from this study can be useful ...</td>\n",
       "      <td>28133</td>\n",
       "      <td>3213136</td>\n",
       "      <td>DISCUSS</td>\n",
       "      <td>10.1371/journal.pone.0027447</td>\n",
       "      <td>0</td>\n",
       "    </tr>\n",
       "    <tr>\n",
       "      <th>128386</th>\n",
       "      <td>Adropin overexpression does not reduce cholest...</td>\n",
       "      <td>38748</td>\n",
       "      <td>5985041</td>\n",
       "      <td>FIG</td>\n",
       "      <td>10.1016/j.molmet.2017.12.002</td>\n",
       "      <td>0</td>\n",
       "    </tr>\n",
       "    <tr>\n",
       "      <th>34413</th>\n",
       "      <td>However, the amount of available data remains ...</td>\n",
       "      <td>6254</td>\n",
       "      <td>2789920</td>\n",
       "      <td>INTRO</td>\n",
       "      <td>10.1016/j.neuroimage.2009.09.056</td>\n",
       "      <td>0</td>\n",
       "    </tr>\n",
       "    <tr>\n",
       "      <th>44595</th>\n",
       "      <td>Twenty four young women were selected from the...</td>\n",
       "      <td>10637</td>\n",
       "      <td>2976801</td>\n",
       "      <td>METHODS</td>\n",
       "      <td>10.1177/1087054710361586</td>\n",
       "      <td>0</td>\n",
       "    </tr>\n",
       "    <tr>\n",
       "      <th>101130</th>\n",
       "      <td></td>\n",
       "      <td>37741</td>\n",
       "      <td>3994700</td>\n",
       "      <td>CONCL</td>\n",
       "      <td>10.1016/j.tig.2009.09.003</td>\n",
       "      <td>0</td>\n",
       "    </tr>\n",
       "  </tbody>\n",
       "</table>\n",
       "</div>"
      ],
      "text/plain": [
       "                                                     text  offset    pmcid  \\\n",
       "123574  Lessons derived from this study can be useful ...   28133  3213136   \n",
       "128386  Adropin overexpression does not reduce cholest...   38748  5985041   \n",
       "34413   However, the amount of available data remains ...    6254  2789920   \n",
       "44595   Twenty four young women were selected from the...   10637  2976801   \n",
       "101130                                                      37741  3994700   \n",
       "\n",
       "        section                               DOI  open_data  \n",
       "123574  DISCUSS      10.1371/journal.pone.0027447          0  \n",
       "128386      FIG      10.1016/j.molmet.2017.12.002          0  \n",
       "34413     INTRO  10.1016/j.neuroimage.2009.09.056          0  \n",
       "44595   METHODS          10.1177/1087054710361586          0  \n",
       "101130    CONCL         10.1016/j.tig.2009.09.003          0  "
      ]
     },
     "execution_count": 649,
     "metadata": {},
     "output_type": "execute_result"
    }
   ],
   "source": [
    "queried_data.head()"
   ]
  },
  {
   "cell_type": "code",
   "execution_count": 650,
   "metadata": {},
   "outputs": [],
   "source": [
    "queried_data.columns = ['text', 'paper_offset', 'pmcid', 'section', 'doi', 'open_data']\n",
    "queried_data.to_csv('output/labeled_data/active_learning_labels/open_data07.csv', index=False)"
   ]
  },
  {
   "cell_type": "markdown",
   "metadata": {},
   "source": [
    "## Active learning for data sharing"
   ]
  },
  {
   "cell_type": "code",
   "execution_count": 651,
   "metadata": {},
   "outputs": [],
   "source": [
    "X = df_data_sharing.text\n",
    "y = df_data_sharing.data_sharing\n",
    "#X, y = load_digits(return_X_y=True)\n",
    "\n",
    "train_x, test_x, y_train, y_test = train_test_split(X, y, stratify=y, test_size=.4)\n",
    "\n",
    "cv = CountVectorizer(ngram_range=(1,2))\n",
    "enc = OneHotEncoder(handle_unknown='ignore')\n",
    "\n",
    "x_text_train = cv.fit_transform(train_x)\n",
    "one_hots_train = enc.fit_transform(df_data_sharing[['section', 'Journal Title', 'Year']].iloc[train_x.index])\n",
    "y_train = np.array(y_train)\n",
    "x_text_test = cv.transform(test_x)\n",
    "one_hots_test = enc.transform(df_data_sharing[['section', 'Journal Title', 'Year']].iloc[test_x.index])\n",
    "y_test = np.array(y_test)\n",
    "\n",
    "x_train = hstack([x_text_train, one_hots_train])\n",
    "x_test = hstack([x_text_test, one_hots_test])\n",
    "\n",
    "#X_initial, y_initial = X_train[initial_idx], y_train[initial_idx]\n",
    "x_text_pool = cv.transform(df_pool.text)\n",
    "x_pool_one_hots = enc.transform(df_pool[['section', 'Journal Title', 'Year']])\n",
    "x_pool = hstack([x_text_pool, x_pool_one_hots]).tocsr()"
   ]
  },
  {
   "cell_type": "code",
   "execution_count": 652,
   "metadata": {},
   "outputs": [
    {
     "data": {
      "text/plain": [
       "<207831x57702 sparse matrix of type '<class 'numpy.float64'>'\n",
       "\twith 12940179 stored elements in Compressed Sparse Row format>"
      ]
     },
     "execution_count": 652,
     "metadata": {},
     "output_type": "execute_result"
    }
   ],
   "source": [
    "x_pool"
   ]
  },
  {
   "cell_type": "markdown",
   "metadata": {},
   "source": [
    "### Initializing the learner\n",
    "Now we initialize the active learner. "
   ]
  },
  {
   "cell_type": "code",
   "execution_count": 653,
   "metadata": {},
   "outputs": [],
   "source": [
    "learner = ActiveLearner(\n",
    "    estimator=AdaBoostClassifier(),\n",
    "    query_strategy=uncertainty_sampling,\n",
    "    X_training=x_train, y_training=y_train\n",
    ")"
   ]
  },
  {
   "cell_type": "code",
   "execution_count": 654,
   "metadata": {},
   "outputs": [
    {
     "data": {
      "text/plain": [
       "0.4761904761904762"
      ]
     },
     "execution_count": 654,
     "metadata": {},
     "output_type": "execute_result"
    }
   ],
   "source": [
    "f1_score(learner.predict(x_test), y_test)"
   ]
  },
  {
   "cell_type": "code",
   "execution_count": 655,
   "metadata": {},
   "outputs": [
    {
     "name": "stdout",
     "output_type": "stream",
     "text": [
      "              precision    recall  f1-score   support\n",
      "\n",
      "           0       0.99      0.97      0.98       525\n",
      "           1       0.38      0.62      0.48        16\n",
      "\n",
      "    accuracy                           0.96       541\n",
      "   macro avg       0.69      0.80      0.73       541\n",
      "weighted avg       0.97      0.96      0.96       541\n",
      "\n",
      "[[509  16]\n",
      " [  6  10]]\n"
     ]
    }
   ],
   "source": [
    "print(classification_report(learner.predict(x_test), y_test))\n",
    "print(confusion_matrix(learner.predict(x_test), y_test))"
   ]
  },
  {
   "cell_type": "code",
   "execution_count": 656,
   "metadata": {},
   "outputs": [],
   "source": [
    "n_queries = 100"
   ]
  },
  {
   "cell_type": "markdown",
   "metadata": {},
   "source": [
    "## The active learning loop"
   ]
  },
  {
   "cell_type": "code",
   "execution_count": 657,
   "metadata": {},
   "outputs": [
    {
     "name": "stdout",
     "output_type": "stream",
     "text": [
      "System-level effects\n"
     ]
    },
    {
     "data": {
      "image/png": "[encoded data removed]",
      "text/plain": [
       "<Figure size 720x360 with 1 Axes>"
      ]
     },
     "metadata": {},
     "output_type": "display_data"
    },
    {
     "name": "stdout",
     "output_type": "stream",
     "text": [
      "Data Sharing?\n",
      "0\n"
     ]
    }
   ],
   "source": [
    "accuracy_scores = [f1_score(learner.predict(x_test), y_test)]\n",
    "queried_data = pd.DataFrame()\n",
    "labels = []\n",
    "\n",
    "for i in range(n_queries):\n",
    "    display.clear_output(wait=True)\n",
    "    query_idx, query_inst = learner.query(x_pool)\n",
    "    with plt.style.context('seaborn-white'):\n",
    "        print(df_pool.text[query_idx].iloc[0])\n",
    "        plt.figure(figsize=(10, 5))\n",
    "        plt.title('Accuracy of your model')\n",
    "        plt.plot(range(i+1), accuracy_scores)\n",
    "        plt.scatter(range(i+1), accuracy_scores)\n",
    "        plt.xlabel('number of queries')\n",
    "        plt.ylabel('accuracy')\n",
    "        display.display(plt.gcf())\n",
    "        plt.close('all')\n",
    "\n",
    "    print(\"Data Sharing?\")\n",
    "    y_new = np.array([int(input())], dtype=int)\n",
    "    learner.teach(query_inst, y_new)\n",
    "    x_pool = delete_row_csr(x_pool, query_idx[0])\n",
    "    #X_pool, y_pool = np.delete(X_pool, query_idx, axis=0)#, np.delete(y_pool, query_idx, axis=0)\n",
    "    accuracy_scores.append(f1_score(learner.predict(x_test), y_test))\n",
    "    temp = df_pool[['text', 'offset', 'pmcid', 'section', 'DOI']].iloc[query_idx]\n",
    "    labels.append(y_new[0])\n",
    "    queried_data = pd.concat([queried_data, temp])\n",
    "\n",
    "queried_data['data_sharing'] = labels"
   ]
  },
  {
   "cell_type": "code",
   "execution_count": 658,
   "metadata": {},
   "outputs": [
    {
     "data": {
      "text/plain": [
       "0    98\n",
       "1     2\n",
       "Name: data_sharing, dtype: int64"
      ]
     },
     "execution_count": 658,
     "metadata": {},
     "output_type": "execute_result"
    }
   ],
   "source": [
    "queried_data.data_sharing.value_counts()"
   ]
  },
  {
   "cell_type": "code",
   "execution_count": 659,
   "metadata": {},
   "outputs": [],
   "source": [
    "queried_data.columns = ['text', 'paper_offset', 'pmcid', 'section', 'doi', 'data_sharing']\n",
    "queried_data.to_csv('output/labeled_data/active_learning_labels/data_sharing07.csv', index=False)"
   ]
  },
  {
   "cell_type": "code",
   "execution_count": 552,
   "metadata": {},
   "outputs": [
    {
     "data": {
      "text/plain": [
       "<598x8367 sparse matrix of type '<class 'numpy.float64'>'\n",
       "\twith 36832 stored elements in COOrdinate format>"
      ]
     },
     "execution_count": 552,
     "metadata": {},
     "output_type": "execute_result"
    }
   ],
   "source": [
    "x_train"
   ]
  },
  {
   "cell_type": "code",
   "execution_count": 314,
   "metadata": {},
   "outputs": [
    {
     "data": {
      "text/html": [
       "<div>\n",
       "<style scoped>\n",
       "    .dataframe tbody tr th:only-of-type {\n",
       "        vertical-align: middle;\n",
       "    }\n",
       "\n",
       "    .dataframe tbody tr th {\n",
       "        vertical-align: top;\n",
       "    }\n",
       "\n",
       "    .dataframe thead th {\n",
       "        text-align: right;\n",
       "    }\n",
       "</style>\n",
       "<table border=\"1\" class=\"dataframe\">\n",
       "  <thead>\n",
       "    <tr style=\"text-align: right;\">\n",
       "      <th></th>\n",
       "      <th>text</th>\n",
       "      <th>offset</th>\n",
       "      <th>pmcid</th>\n",
       "      <th>section</th>\n",
       "      <th>Journal Title</th>\n",
       "      <th>ISSN</th>\n",
       "      <th>eISSN</th>\n",
       "      <th>Year</th>\n",
       "      <th>Volume</th>\n",
       "      <th>Issue</th>\n",
       "      <th>Page</th>\n",
       "      <th>DOI</th>\n",
       "      <th>PMCID</th>\n",
       "      <th>PMID</th>\n",
       "      <th>Manuscript Id</th>\n",
       "      <th>Release Date</th>\n",
       "    </tr>\n",
       "  </thead>\n",
       "  <tbody>\n",
       "    <tr>\n",
       "      <th>83499</th>\n",
       "      <td>\\n        \\n          \\n            Predictor\\...</td>\n",
       "      <td>37230</td>\n",
       "      <td>4035109</td>\n",
       "      <td>TABLE</td>\n",
       "      <td>J Clin Psychiatry</td>\n",
       "      <td>0160-6689</td>\n",
       "      <td>1555-2101</td>\n",
       "      <td>2011</td>\n",
       "      <td>72</td>\n",
       "      <td>8</td>\n",
       "      <td>1027</td>\n",
       "      <td>10.4088/JCP.10m06410</td>\n",
       "      <td>PMC4035109</td>\n",
       "      <td>21813075.0</td>\n",
       "      <td>NIHMS317910</td>\n",
       "      <td>live</td>\n",
       "    </tr>\n",
       "  </tbody>\n",
       "</table>\n",
       "</div>"
      ],
      "text/plain": [
       "                                                    text  offset    pmcid  \\\n",
       "83499  \\n        \\n          \\n            Predictor\\...   37230  4035109   \n",
       "\n",
       "      section      Journal Title       ISSN      eISSN  Year Volume Issue  \\\n",
       "83499   TABLE  J Clin Psychiatry  0160-6689  1555-2101  2011     72     8   \n",
       "\n",
       "       Page                   DOI       PMCID        PMID Manuscript Id  \\\n",
       "83499  1027  10.4088/JCP.10m06410  PMC4035109  21813075.0   NIHMS317910   \n",
       "\n",
       "      Release Date  \n",
       "83499         live  "
      ]
     },
     "execution_count": 314,
     "metadata": {},
     "output_type": "execute_result"
    }
   ],
   "source": [
    "df_pool.iloc[query_idx]"
   ]
  },
  {
   "cell_type": "code",
   "execution_count": null,
   "metadata": {},
   "outputs": [],
   "source": []
  }
 ],
 "metadata": {
  "kernelspec": {
   "display_name": "ac_knowl",
   "language": "python",
   "name": "ac_knowl"
  },
  "language_info": {
   "codemirror_mode": {
    "name": "ipython",
    "version": 3
   },
   "file_extension": ".py",
   "mimetype": "text/x-python",
   "name": "python",
   "nbconvert_exporter": "python",
   "pygments_lexer": "ipython3",
   "version": "3.7.3"
  }
 },
 "nbformat": 4,
 "nbformat_minor": 2
}
