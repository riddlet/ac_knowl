{
 "cells": [
  {
   "cell_type": "code",
   "execution_count": 1,
   "metadata": {},
   "outputs": [],
   "source": [
    "import glob\n",
    "import pandas as pd\n",
    "import urllib\n",
    "import requests\n",
    "import xml.etree.ElementTree as ET\n",
    "import time\n",
    "import numpy as np\n",
    "from itertools import zip_longest"
   ]
  },
  {
   "cell_type": "code",
   "execution_count": 2,
   "metadata": {},
   "outputs": [],
   "source": [
    "def grouper(iterable, n, fillvalue=None):\n",
    "    args = [iter(iterable)] * n\n",
    "    return zip_longest(*args, fillvalue=fillvalue)"
   ]
  },
  {
   "cell_type": "code",
   "execution_count": 3,
   "metadata": {},
   "outputs": [
    {
     "name": "stderr",
     "output_type": "stream",
     "text": [
      "/home/riddleta/ac_knowl/ac_knowl/lib/python3.7/site-packages/IPython/core/interactiveshell.py:3049: DtypeWarning: Columns (1) have mixed types. Specify dtype option on import or set low_memory=False.\n",
      "  interactivity=interactivity, compiler=compiler, result=result)\n"
     ]
    }
   ],
   "source": [
    "df = pd.read_csv('/home/riddleta/ac_knowl/output/file_index.csv')"
   ]
  },
  {
   "cell_type": "code",
   "execution_count": 4,
   "metadata": {},
   "outputs": [
    {
     "data": {
      "text/html": [
       "<div>\n",
       "<style scoped>\n",
       "    .dataframe tbody tr th:only-of-type {\n",
       "        vertical-align: middle;\n",
       "    }\n",
       "\n",
       "    .dataframe tbody tr th {\n",
       "        vertical-align: top;\n",
       "    }\n",
       "\n",
       "    .dataframe thead th {\n",
       "        text-align: right;\n",
       "    }\n",
       "</style>\n",
       "<table border=\"1\" class=\"dataframe\">\n",
       "  <thead>\n",
       "    <tr style=\"text-align: right;\">\n",
       "      <th></th>\n",
       "      <th>file</th>\n",
       "      <th>pmcid</th>\n",
       "      <th>paper_number</th>\n",
       "    </tr>\n",
       "  </thead>\n",
       "  <tbody>\n",
       "    <tr>\n",
       "      <th>0</th>\n",
       "      <td>/home/riddleta/ac_knowl/output/full_texts/pape...</td>\n",
       "      <td>3972225</td>\n",
       "      <td>0</td>\n",
       "    </tr>\n",
       "    <tr>\n",
       "      <th>1</th>\n",
       "      <td>/home/riddleta/ac_knowl/output/full_texts/pape...</td>\n",
       "      <td>3972226</td>\n",
       "      <td>1</td>\n",
       "    </tr>\n",
       "    <tr>\n",
       "      <th>2</th>\n",
       "      <td>/home/riddleta/ac_knowl/output/full_texts/pape...</td>\n",
       "      <td>3972227</td>\n",
       "      <td>2</td>\n",
       "    </tr>\n",
       "    <tr>\n",
       "      <th>3</th>\n",
       "      <td>/home/riddleta/ac_knowl/output/full_texts/pape...</td>\n",
       "      <td>3972228</td>\n",
       "      <td>3</td>\n",
       "    </tr>\n",
       "    <tr>\n",
       "      <th>4</th>\n",
       "      <td>/home/riddleta/ac_knowl/output/full_texts/pape...</td>\n",
       "      <td>3972229</td>\n",
       "      <td>4</td>\n",
       "    </tr>\n",
       "  </tbody>\n",
       "</table>\n",
       "</div>"
      ],
      "text/plain": [
       "                                                file    pmcid  paper_number\n",
       "0  /home/riddleta/ac_knowl/output/full_texts/pape...  3972225             0\n",
       "1  /home/riddleta/ac_knowl/output/full_texts/pape...  3972226             1\n",
       "2  /home/riddleta/ac_knowl/output/full_texts/pape...  3972227             2\n",
       "3  /home/riddleta/ac_knowl/output/full_texts/pape...  3972228             3\n",
       "4  /home/riddleta/ac_knowl/output/full_texts/pape...  3972229             4"
      ]
     },
     "execution_count": 4,
     "metadata": {},
     "output_type": "execute_result"
    }
   ],
   "source": [
    "df.head()"
   ]
  },
  {
   "cell_type": "code",
   "execution_count": 5,
   "metadata": {},
   "outputs": [],
   "source": [
    "with open('api_key.txt', 'r') as infile:\n",
    "    line = infile.readlines()\n",
    "    api_key = line[0][10:]"
   ]
  },
  {
   "cell_type": "code",
   "execution_count": null,
   "metadata": {},
   "outputs": [
    {
     "name": "stdout",
     "output_type": "stream",
     "text": [
      "5846053*******5846376\n",
      "'fulljournalname'\n",
      "6450715*******6456894\n",
      "'fulljournalname'\n",
      "5390906*******5391162\n",
      "'fulljournalname'\n",
      "4775292*******4776336\n",
      "'fulljournalname'\n",
      "5929106*******5931393\n",
      "'fulljournalname'\n",
      "5822532*******5822787\n",
      "'fulljournalname'\n",
      "5819009*******4370912\n",
      "Expecting value: line 1 column 1 (char 0)\n",
      "4370913*******4371426\n",
      "Expecting value: line 1 column 1 (char 0)\n",
      "4107366*******4108450\n",
      "'fulljournalname'\n",
      "4015299*******4015605\n",
      "'fulljournalname'\n",
      "5131257*******5133195\n",
      "'fulljournalname'\n",
      "4156544*******4157118\n",
      "'fulljournalname'\n",
      "5727783*******5728061\n",
      "'fulljournalname'\n"
     ]
    }
   ],
   "source": [
    "mesh_labs = []\n",
    "mesh_ids = []\n",
    "grant_ids = []\n",
    "grant_agency = []\n",
    "journal_out = []\n",
    "pmid_out = []\n",
    "auths_out = []\n",
    "pmcid_out = []\n",
    "total_papes = 0\n",
    "for i in grouper(df.pmcid.tolist(), 200):\n",
    "    try:\n",
    "        i = list(map(str, i)) #ensure strings\n",
    "        pth = 'https://eutils.ncbi.nlm.nih.gov/entrez/eutils/esummary.fcgi?db=pmc&id=' + str(','.join(i)) + '&retmode=json&api_key=' + str(api_key)\n",
    "        r = requests.get(pth)\n",
    "        r_out = r.json()\n",
    "        jr=[] #store local group results\n",
    "        pmr=[]\n",
    "        ar=[]\n",
    "        pmcr=[]\n",
    "        for j in r_out['result']['uids']:\n",
    "            jr.append(r_out['result'][str(j)]['fulljournalname'])\n",
    "            pmr.append([art_id['value'] for art_id in r_out['result'][str(j)]['articleids'] if art_id['idtype']=='pmid'][0])\n",
    "            ar.append(r_out['result'][str(j)]['authors'])\n",
    "            pmcr.append(j)\n",
    "\n",
    "\n",
    "        journal_out.extend(jr) #build up lists for writing\n",
    "        pmid_out.extend(pmr)\n",
    "        auths_out.extend(ar)\n",
    "        pmcid_out.extend(pmcr)\n",
    "\n",
    "        out_df = pd.DataFrame({'journal':journal_out,\n",
    "                          'pmid':pmid_out,\n",
    "                          'auths':auths_out,\n",
    "                          'pmcid':pmcid_out})\n",
    "        if out_df.shape[0]>100000:\n",
    "            total_papes = total_papes + out_df.shape[0]\n",
    "            fn = 'grant_id_'\n",
    "            out_df.to_csv('/home/riddleta/ac_knowl/output/grant_identifiers/'+fn+str(total_papes)+'.csv', index=False)\n",
    "            journal_out = []\n",
    "            pmid_out = []\n",
    "            auths_out = []\n",
    "            pmcid_out = []\n",
    "\n",
    "        time.sleep(.11)\n",
    "    except Exception as e:\n",
    "        print(str(i[0])+'*******'+str(i[199]))\n",
    "        print(e)\n",
    "        time.sleep(.11)\n"
   ]
  },
  {
   "cell_type": "code",
   "execution_count": null,
   "metadata": {},
   "outputs": [],
   "source": [
    "total_papes"
   ]
  },
  {
   "cell_type": "code",
   "execution_count": 27,
   "metadata": {},
   "outputs": [
    {
     "data": {
      "text/plain": [
       "['6057084',\n",
       " '4901318',\n",
       " '5066403',\n",
       " '4963138',\n",
       " '4921636',\n",
       " '5021966',\n",
       " '5009682',\n",
       " '5146782',\n",
       " '5047131',\n",
       " '6060497',\n",
       " '4861734',\n",
       " '6058380',\n",
       " '4927541',\n",
       " '6059306',\n",
       " '5154497',\n",
       " '4866476',\n",
       " '4893845',\n",
       " '5168700',\n",
       " '4956923',\n",
       " '4930344',\n",
       " '4906879',\n",
       " '4867884',\n",
       " '5187529',\n",
       " '5008858',\n",
       " '5036301',\n",
       " '4880642',\n",
       " '5023661',\n",
       " '5057336',\n",
       " '4919838',\n",
       " '5010214',\n",
       " '6034155',\n",
       " '4977644',\n",
       " '5168440',\n",
       " '4929888',\n",
       " '4902956',\n",
       " '5041572',\n",
       " '5105114',\n",
       " '5147497',\n",
       " '5053639',\n",
       " '5135046',\n",
       " '5148605',\n",
       " '4881716',\n",
       " '6036431',\n",
       " '4918678',\n",
       " '4935726',\n",
       " '4994429',\n",
       " '4969043',\n",
       " '4879346',\n",
       " '4913953',\n",
       " '6038603',\n",
       " '5001952',\n",
       " '6054685',\n",
       " '4929459',\n",
       " '4909765',\n",
       " '4938287',\n",
       " '4987053',\n",
       " '4940342',\n",
       " '5054885',\n",
       " '5020311',\n",
       " '5014317',\n",
       " '5115840',\n",
       " '5037525',\n",
       " '4937531',\n",
       " '6051175',\n",
       " '5011657',\n",
       " '5065158',\n",
       " '5093585',\n",
       " '4867921',\n",
       " '4919548',\n",
       " '5190020',\n",
       " '5067575',\n",
       " '3166172',\n",
       " '5112819',\n",
       " '4981418',\n",
       " '5029226',\n",
       " '5164879',\n",
       " '6030377',\n",
       " '5083719',\n",
       " '4950111',\n",
       " '4873622',\n",
       " '5007702',\n",
       " '5168825',\n",
       " '5059142',\n",
       " '4870490',\n",
       " '4945145',\n",
       " '4867088',\n",
       " '4969998',\n",
       " '5126589',\n",
       " '5121644',\n",
       " '5089089',\n",
       " '5089119',\n",
       " '6046358',\n",
       " '4930182',\n",
       " '4937449',\n",
       " '5105851',\n",
       " '4867862',\n",
       " '5019240',\n",
       " '4956800',\n",
       " '4986119',\n",
       " '5143279',\n",
       " '4864514',\n",
       " '5076686',\n",
       " '4912740',\n",
       " '5000713',\n",
       " '5087353',\n",
       " '4910329',\n",
       " '5171841',\n",
       " '4936744',\n",
       " '5152535',\n",
       " '4926411',\n",
       " '4892741',\n",
       " '4939158',\n",
       " '5161305',\n",
       " '4937082',\n",
       " '5100617',\n",
       " '4941781',\n",
       " '5073895',\n",
       " '4996051',\n",
       " '6029176',\n",
       " '4895951',\n",
       " '4926430',\n",
       " '4908781',\n",
       " '5076506',\n",
       " '4867768',\n",
       " '6026897',\n",
       " '5100205',\n",
       " '5023969',\n",
       " '5095017',\n",
       " '4968471',\n",
       " '3166015',\n",
       " '4876447',\n",
       " '4932518',\n",
       " '4977174',\n",
       " '5127887',\n",
       " '4958100',\n",
       " '5080482',\n",
       " '6035142',\n",
       " '5064310',\n",
       " '4930580',\n",
       " '5018075',\n",
       " '4991841',\n",
       " '5026182',\n",
       " '5062939',\n",
       " '5136127',\n",
       " '4967858',\n",
       " '5045429',\n",
       " '5041537',\n",
       " '4969905',\n",
       " '5074997',\n",
       " '4997446',\n",
       " '4971264',\n",
       " '4942101',\n",
       " '4873502',\n",
       " '5020605',\n",
       " '5125994',\n",
       " '4967050',\n",
       " '4963865',\n",
       " '6030924',\n",
       " '4973702',\n",
       " '5053184',\n",
       " '5187656',\n",
       " '5125980',\n",
       " '5184788',\n",
       " '5010886',\n",
       " '5127839',\n",
       " '4882746',\n",
       " '4938234',\n",
       " '5073957',\n",
       " '4996547',\n",
       " '4982665',\n",
       " '4938661',\n",
       " '4946491',\n",
       " '4864674',\n",
       " '4994317',\n",
       " '5102613',\n",
       " '4915120',\n",
       " '4970758',\n",
       " '4998293',\n",
       " '6057650',\n",
       " '5054125',\n",
       " '5042171',\n",
       " '5029932',\n",
       " '4921942',\n",
       " '5175504',\n",
       " '4976941',\n",
       " '5129198',\n",
       " '5012722',\n",
       " '4996858',\n",
       " '5080741',\n",
       " '6055840',\n",
       " '5008761',\n",
       " '4997414',\n",
       " '4908087',\n",
       " '4989448',\n",
       " '5069790',\n",
       " '5126108',\n",
       " '5003027',\n",
       " '5050025',\n",
       " '4877879',\n",
       " '5043590']"
      ]
     },
     "execution_count": 27,
     "metadata": {},
     "output_type": "execute_result"
    }
   ],
   "source": [
    "list(map(str, i))"
   ]
  },
  {
   "cell_type": "code",
   "execution_count": 14,
   "metadata": {},
   "outputs": [],
   "source": [
    "#pth = 'https://eutils.ncbi.nlm.nih.gov/entrez/eutils/esummary.fcgi?db=pmc&id=' + str(','.join(i)) + '&retmode=json&api_key=' + str(api_key)\n",
    "#r = requests.get(pth)\n",
    "#r_out = r.json()\n",
    "r = requests.get(pth)"
   ]
  },
  {
   "cell_type": "code",
   "execution_count": 23,
   "metadata": {},
   "outputs": [
    {
     "data": {
      "text/plain": [
       "int"
      ]
     },
     "execution_count": 23,
     "metadata": {},
     "output_type": "execute_result"
    }
   ],
   "source": [
    "type(i[1])"
   ]
  },
  {
   "cell_type": "markdown",
   "metadata": {},
   "source": [
    "### everything below here is olllld\n",
    "next time, i gotta do the grant api"
   ]
  },
  {
   "cell_type": "code",
   "execution_count": 4,
   "metadata": {},
   "outputs": [
    {
     "data": {
      "text/plain": [
       "[50000,\n",
       " 100000,\n",
       " 150000,\n",
       " 200000,\n",
       " 250000,\n",
       " 300000,\n",
       " 350000,\n",
       " 400000,\n",
       " 450000,\n",
       " 500000,\n",
       " 550000,\n",
       " 600000,\n",
       " 650000,\n",
       " 700000,\n",
       " 750000,\n",
       " 800000,\n",
       " 850000,\n",
       " 900000,\n",
       " 950000,\n",
       " 1000000,\n",
       " 1050000,\n",
       " 1100000,\n",
       " 1150000,\n",
       " 1200000,\n",
       " 1250000,\n",
       " 1300000,\n",
       " 1350000,\n",
       " 1400000,\n",
       " 1450000,\n",
       " 1500000,\n",
       " 1550000,\n",
       " 1600000,\n",
       " 1650000,\n",
       " 1700000,\n",
       " 1750000,\n",
       " 1800000,\n",
       " 1850000,\n",
       " 1900000,\n",
       " 1950000,\n",
       " 2000000,\n",
       " 2050000,\n",
       " 2100000,\n",
       " 2150000,\n",
       " 2200000,\n",
       " 2250000,\n",
       " 2300000,\n",
       " 2350000,\n",
       " 2400000,\n",
       " 2450000,\n",
       " 2500000,\n",
       " 2550000]"
      ]
     },
     "execution_count": 4,
     "metadata": {},
     "output_type": "execute_result"
    }
   ],
   "source": [
    "status_update = [i for i in range(50000, df.shape[0], 50000)]"
   ]
  },
  {
   "cell_type": "code",
   "execution_count": null,
   "metadata": {
    "scrolled": true
   },
   "outputs": [],
   "source": [
    "mesh_labs = []\n",
    "mesh_ids = []\n",
    "grant_ids = []\n",
    "grant_agency = []\n",
    "journal_out = []\n",
    "pmid_out = []\n",
    "auths_out = []\n",
    "pmcid_out = []\n",
    "for j, pmcid in enumerate(df.pmcid.tolist()):\n",
    "    pth = 'https://eutils.ncbi.nlm.nih.gov/entrez/eutils/esummary.fcgi?db=pmc&id=' + str(pmcid) + '&retmode=json&api_key=' + str(api_key)\n",
    "    try:\n",
    "        r = requests.get(pth)\n",
    "        r_out = r.json()\n",
    "        journal = r_out['result'][str(pmcid)]['fulljournalname']\n",
    "        pmid = [art_id['value'] for art_id in r_out['result'][str(pmcid)]['articleids'] if art_id['idtype']=='pmid'][0]\n",
    "        auths = r_out['result'][str(pmcid)]['authors']\n",
    "        time.sleep(.11)\n",
    "\n",
    "        pth = 'https://eutils.ncbi.nlm.nih.gov/entrez/eutils/efetch.fcgi?db=pubmed&id=' + pmid + '&retmode=xml&api_key=' + str(api_key)\n",
    "        r2 = requests.get(pth)\n",
    "        root = ET.fromstring(r2.content)\n",
    "        tmp_mesh_labs = []\n",
    "        tmp_mesh_ids = []\n",
    "        tmp_grant_ids = []\n",
    "        tmp_grant_agency = []\n",
    "        for mesh in root.iter('MeshHeading'):\n",
    "            tmp_mesh_labs.append([i.text for i in mesh])\n",
    "            tmp_mesh_ids.append([i.attrib['UI'] for i in mesh])\n",
    "        for grant in root.iter('Grant'):\n",
    "            tmp_grant_ids.append([i.text for i in grant if i.tag=='GrantID'])\n",
    "            tmp_grant_agency.append([i.text for i in grant if i.tag=='Agency'])\n",
    "\n",
    "        journal_out.append(journal)\n",
    "        pmid_out.append(pmid)\n",
    "        auths_out.append(auths)\n",
    "        mesh_labs.append([lab for entry in tmp_mesh_labs for lab in entry])\n",
    "        mesh_ids.append([lab for entry in tmp_mesh_ids for lab in entry])\n",
    "        grant_ids.append(tmp_grant_ids)\n",
    "        grant_agency.append(tmp_grant_agency)\n",
    "        pmcid_out.append(pmcid)\n",
    "        time.sleep(.1)\n",
    "    except:\n",
    "        journal_out.append(np.nan)\n",
    "        pmid_out.append(np.nan)\n",
    "        auths_out.append(np.nan)\n",
    "        mesh_labs.append(np.nan)\n",
    "        mesh_ids.append(np.nan)\n",
    "        grant_ids.append(np.nan)\n",
    "        grant_agency.append(np.nan)\n",
    "        pmcid_out.append(np.nan)\n",
    "    \n",
    "    if j in status_update:\n",
    "        out_df = pd.DataFrame({'journal':journal_out,\n",
    "                               'pmid':pmid_out,\n",
    "                               'auths':auths_out,\n",
    "                               'mesh_labs':mesh_labs,\n",
    "                               'mesh_ids':mesh_ids,\n",
    "                               'grant_ids':grant_ids,\n",
    "                               'grant_agency':grant_agency,\n",
    "                               'pmcid':pmcid_out})\n",
    "        fn = 'grant_id_'\n",
    "        out_df.to_csv('/home/riddleta/ac_knowl/output/grant_identifiers/'+fn+str(j)+'.csv', index=False)\n",
    "        mesh_labs = []\n",
    "        mesh_ids = []\n",
    "        grant_ids = []\n",
    "        grant_agency = []\n",
    "        journal_out = []\n",
    "        pmid_out = []\n",
    "        auths_out = []\n",
    "        pmcid_out = []\n",
    "        \n",
    "        "
   ]
  },
  {
   "cell_type": "code",
   "execution_count": 200,
   "metadata": {},
   "outputs": [
    {
     "data": {
      "text/plain": [
       "[]"
      ]
     },
     "execution_count": 200,
     "metadata": {},
     "output_type": "execute_result"
    }
   ],
   "source": [
    "root.findall('.//Grant')"
   ]
  },
  {
   "cell_type": "code",
   "execution_count": 105,
   "metadata": {},
   "outputs": [],
   "source": [
    "pmid = 24691291\n",
    "pth = 'https://eutils.ncbi.nlm.nih.gov/entrez/eutils/efetch.fcgi?db=pubmed&id=' + str(pmid) + '&retmode=xml'\n",
    "r2 = requests.get(pth)\n",
    "root = ET.fromstring(r2.content)"
   ]
  },
  {
   "cell_type": "code",
   "execution_count": 161,
   "metadata": {},
   "outputs": [
    {
     "ename": "NameError",
     "evalue": "name 'grant_ids' is not defined",
     "output_type": "error",
     "traceback": [
      "\u001b[0;31m---------------------------------------------------------------------------\u001b[0m",
      "\u001b[0;31mNameError\u001b[0m                                 Traceback (most recent call last)",
      "\u001b[0;32m<ipython-input-161-582cc752d83c>\u001b[0m in \u001b[0;36m<module>\u001b[0;34m\u001b[0m\n\u001b[1;32m      1\u001b[0m \u001b[0;32mfor\u001b[0m \u001b[0mgrant\u001b[0m \u001b[0;32min\u001b[0m \u001b[0mroot\u001b[0m\u001b[0;34m.\u001b[0m\u001b[0miter\u001b[0m\u001b[0;34m(\u001b[0m\u001b[0;34m'Grant'\u001b[0m\u001b[0;34m)\u001b[0m\u001b[0;34m:\u001b[0m\u001b[0;34m\u001b[0m\u001b[0;34m\u001b[0m\u001b[0m\n\u001b[0;32m----> 2\u001b[0;31m     \u001b[0mgrant_ids\u001b[0m\u001b[0;34m.\u001b[0m\u001b[0mappend\u001b[0m\u001b[0;34m(\u001b[0m\u001b[0;34m[\u001b[0m\u001b[0mi\u001b[0m\u001b[0;34m.\u001b[0m\u001b[0mtext\u001b[0m \u001b[0;32mfor\u001b[0m \u001b[0mi\u001b[0m \u001b[0;32min\u001b[0m \u001b[0mgrant\u001b[0m \u001b[0;32mif\u001b[0m \u001b[0mi\u001b[0m\u001b[0;34m.\u001b[0m\u001b[0mtag\u001b[0m\u001b[0;34m==\u001b[0m\u001b[0;34m'GrantID'\u001b[0m\u001b[0;34m]\u001b[0m\u001b[0;34m)\u001b[0m\u001b[0;34m\u001b[0m\u001b[0;34m\u001b[0m\u001b[0m\n\u001b[0m\u001b[1;32m      3\u001b[0m     \u001b[0mgrant_agency\u001b[0m\u001b[0;34m.\u001b[0m\u001b[0mappend\u001b[0m\u001b[0;34m(\u001b[0m\u001b[0;34m[\u001b[0m\u001b[0mi\u001b[0m\u001b[0;34m.\u001b[0m\u001b[0mtext\u001b[0m \u001b[0;32mfor\u001b[0m \u001b[0mi\u001b[0m \u001b[0;32min\u001b[0m \u001b[0mgrant\u001b[0m \u001b[0;32mif\u001b[0m \u001b[0mi\u001b[0m\u001b[0;34m.\u001b[0m\u001b[0mtag\u001b[0m\u001b[0;34m==\u001b[0m\u001b[0;34m'Agency'\u001b[0m\u001b[0;34m]\u001b[0m\u001b[0;34m)\u001b[0m\u001b[0;34m\u001b[0m\u001b[0;34m\u001b[0m\u001b[0m\n\u001b[1;32m      4\u001b[0m \u001b[0;34m\u001b[0m\u001b[0m\n",
      "\u001b[0;31mNameError\u001b[0m: name 'grant_ids' is not defined"
     ]
    }
   ],
   "source": [
    "\n",
    "    "
   ]
  },
  {
   "cell_type": "code",
   "execution_count": 160,
   "metadata": {},
   "outputs": [
    {
     "ename": "IndexError",
     "evalue": "child index out of range",
     "output_type": "error",
     "traceback": [
      "\u001b[0;31m---------------------------------------------------------------------------\u001b[0m",
      "\u001b[0;31mIndexError\u001b[0m                                Traceback (most recent call last)",
      "\u001b[0;32m<ipython-input-160-161b6d31bf93>\u001b[0m in \u001b[0;36m<module>\u001b[0;34m\u001b[0m\n\u001b[0;32m----> 1\u001b[0;31m \u001b[0mgrant\u001b[0m\u001b[0;34m[\u001b[0m\u001b[0;36m0\u001b[0m\u001b[0;34m]\u001b[0m\u001b[0;34m[\u001b[0m\u001b[0;36m0\u001b[0m\u001b[0;34m]\u001b[0m\u001b[0;34m\u001b[0m\u001b[0;34m\u001b[0m\u001b[0m\n\u001b[0m",
      "\u001b[0;31mIndexError\u001b[0m: child index out of range"
     ]
    }
   ],
   "source": [
    "grant[0][0]"
   ]
  },
  {
   "cell_type": "code",
   "execution_count": 135,
   "metadata": {},
   "outputs": [
    {
     "name": "stderr",
     "output_type": "stream",
     "text": [
      "/home/riddleta/ac_knowl/ac_knowl/lib/python3.7/site-packages/ipykernel_launcher.py:1: DeprecationWarning: This method will be removed in future versions.  Use 'list(elem)' or iteration over elem instead.\n",
      "  \"\"\"Entry point for launching an IPython kernel.\n"
     ]
    },
    {
     "ename": "KeyError",
     "evalue": "'GrantID'",
     "output_type": "error",
     "traceback": [
      "\u001b[0;31m---------------------------------------------------------------------------\u001b[0m",
      "\u001b[0;31mKeyError\u001b[0m                                  Traceback (most recent call last)",
      "\u001b[0;32m<ipython-input-135-06ddb5a7338a>\u001b[0m in \u001b[0;36m<module>\u001b[0;34m\u001b[0m\n\u001b[1;32m      1\u001b[0m \u001b[0;32mfor\u001b[0m \u001b[0mchild\u001b[0m \u001b[0;32min\u001b[0m \u001b[0mgrant\u001b[0m\u001b[0;34m.\u001b[0m\u001b[0mgetchildren\u001b[0m\u001b[0;34m(\u001b[0m\u001b[0;34m)\u001b[0m\u001b[0;34m:\u001b[0m\u001b[0;34m\u001b[0m\u001b[0;34m\u001b[0m\u001b[0m\n\u001b[0;32m----> 2\u001b[0;31m     \u001b[0mprint\u001b[0m\u001b[0;34m(\u001b[0m\u001b[0mchild\u001b[0m\u001b[0;34m.\u001b[0m\u001b[0mattrib\u001b[0m\u001b[0;34m[\u001b[0m\u001b[0;34m'GrantID'\u001b[0m\u001b[0;34m]\u001b[0m\u001b[0;34m)\u001b[0m\u001b[0;34m\u001b[0m\u001b[0;34m\u001b[0m\u001b[0m\n\u001b[0m",
      "\u001b[0;31mKeyError\u001b[0m: 'GrantID'"
     ]
    }
   ],
   "source": [
    "for child in grant.getchildren():\n",
    "    print(child.attrib['GrantID'])"
   ]
  },
  {
   "cell_type": "code",
   "execution_count": 102,
   "metadata": {},
   "outputs": [
    {
     "name": "stdout",
     "output_type": "stream",
     "text": [
      "['N']\n",
      "['Adolescent']\n",
      "['D000293']\n",
      "['N']\n",
      "['Adult']\n",
      "['D000328']\n",
      "['N', 'Y']\n",
      "['Asian Continental Ancestry Group', 'genetics']\n",
      "['D044466', 'Q000235']\n",
      "['N']\n",
      "['China']\n",
      "['D002681']\n",
      "['N', 'N']\n",
      "['Ethnic Groups', 'genetics']\n",
      "['D005006', 'Q000235']\n",
      "['N']\n",
      "['Female']\n",
      "['D005260']\n",
      "['N', 'Y']\n",
      "['Gene Frequency', 'genetics']\n",
      "['D005787', 'Q000235']\n",
      "['N']\n",
      "['Geography']\n",
      "['D005843']\n",
      "['N', 'Y']\n",
      "['HLA-A Antigens', 'genetics']\n",
      "['D015234', 'Q000235']\n",
      "['N', 'Y']\n",
      "['HLA-B Antigens', 'genetics']\n",
      "['D015235', 'Q000235']\n",
      "['N', 'Y']\n",
      "['HLA-DRB1 Chains', 'genetics']\n",
      "['D059811', 'Q000235']\n",
      "['N', 'Y']\n",
      "['Haplotypes', 'genetics']\n",
      "['D006239', 'Q000235']\n",
      "['N']\n",
      "['Humans']\n",
      "['D006801']\n",
      "['N']\n",
      "['Linkage Disequilibrium']\n",
      "['D015810']\n",
      "['N']\n",
      "['Male']\n",
      "['D008297']\n",
      "['N']\n",
      "['Middle Aged']\n",
      "['D008875']\n",
      "['N']\n",
      "['Minority Groups']\n",
      "['D008913']\n",
      "['N']\n",
      "['Phylogeny']\n",
      "['D010802']\n",
      "['N']\n",
      "['Tissue Donors']\n",
      "['D014019']\n",
      "['N']\n",
      "['Young Adult']\n",
      "['D055815']\n"
     ]
    }
   ],
   "source": [
    "for mesh in root.iter('MeshHeading'):\n",
    "    print([i.attrib['MajorTopicYN'] for i in mesh])\n",
    "    print([i.text for i in mesh])\n",
    "    print([i.attrib['UI'] for i in mesh])"
   ]
  }
 ],
 "metadata": {
  "kernelspec": {
   "display_name": "ac_knowl",
   "language": "python",
   "name": "ac_knowl"
  },
  "language_info": {
   "codemirror_mode": {
    "name": "ipython",
    "version": 3
   },
   "file_extension": ".py",
   "mimetype": "text/x-python",
   "name": "python",
   "nbconvert_exporter": "python",
   "pygments_lexer": "ipython3",
   "version": "3.7.1"
  }
 },
 "nbformat": 4,
 "nbformat_minor": 2
}
